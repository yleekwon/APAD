{
 "cells": [
  {
   "cell_type": "markdown",
   "metadata": {},
   "source": [
    "# Project 1 - Room Booking App #\n",
    "### Dhrov Subramanian & Yeggi Lee ###"
   ]
  },
  {
   "cell_type": "markdown",
   "metadata": {},
   "source": [
    "## Creating the tables ##\n",
    "\n",
    "1. users\n",
    "2. venues\n",
    "3. events\n",
    "4. confirmedEvents\n"
   ]
  },
  {
   "cell_type": "code",
   "execution_count": 4,
   "metadata": {},
   "outputs": [],
   "source": [
    "import sqlite3\n",
    "#db=sqlite3.connect(\"/Users/ylee/Desktop/sqlite/test.db\")\n",
    "db=sqlite3.connect(\"/sqlite3/test.db\")\n",
    "cursor = db.cursor()\n",
    "\n",
    "cursor.execute('''\n",
    "    DROP TABLE IF EXISTS users''');\n",
    "cursor.execute('''\n",
    "    DROP TABLE IF EXISTS venues''');\n",
    "cursor.execute('''\n",
    "    DROP TABLE IF EXISTS events''');\n",
    "cursor.execute('''\n",
    "    DROP TABLE IF EXISTS confirmedEvents''');\n",
    "\n",
    "#Make email unique after testing please\n",
    "cursor.execute('''\n",
    "    CREATE TABLE users(\n",
    "                       user_id INTEGER PRIMARY KEY, \n",
    "                       name TEXT,\n",
    "                       phone TEXT, \n",
    "                       email TEXT UNIQUE, \n",
    "                       dob DATE,\n",
    "                       admin BOOLEAN)\n",
    "''');\n",
    "\n",
    "cursor.execute('''\n",
    "    CREATE TABLE venues(\n",
    "                        venue_id INTEGER PRIMARY KEY, \n",
    "                        bldg_code TEXT,\n",
    "                        floor_num INTEGER,\n",
    "                        room_num INTEGER, \n",
    "                        room_capacity INTEGER,\n",
    "                        open_time INTEGER,\n",
    "                        close_time INTEGER)\n",
    "''');\n",
    "\n",
    "cursor.execute('''\n",
    "    CREATE TABLE events(\n",
    "                        event_id INTEGER PRIMARY KEY, \n",
    "                        name TEXT, \n",
    "                        description TEXT, \n",
    "                        start_time TIMESTAMP,\n",
    "                        event_time INTEGER, \n",
    "                        capacity INTEGER, \n",
    "                        venue_id INTEGER,\n",
    "                        event_owner INTEGER,\n",
    "                        CONSTRAINT \n",
    "                            fk_venues FOREIGN KEY (venue_id) \n",
    "                            REFERENCES venues(venue_id),\n",
    "                        CONSTRAINT \n",
    "                            fk_users FOREIGN KEY (event_owner) \n",
    "                            REFERENCES users(user_id))\n",
    "                   \n",
    "''');\n",
    "\n",
    "cursor.execute('''\n",
    "    CREATE TABLE confirmedEvents(\n",
    "                                 confirmedEvents_id INTEGER PRIMARY KEY, \n",
    "                                 event_id INTEGER, user_id INTEGER,\n",
    "                                 CONSTRAINT \n",
    "                                     fk_events FOREIGN KEY (event_id) \n",
    "                                     REFERENCES events(event_id),\n",
    "                                 CONSTRAINT \n",
    "                                     fk_users FOREIGN KEY (user_id) \n",
    "                                     REFERENCES users(user_id))\n",
    "''');\n",
    "\n",
    "db.commit()"
   ]
  },
  {
   "cell_type": "markdown",
   "metadata": {},
   "source": [
    "In the section below, we're adding test subjects to check that the tables are working correctly."
   ]
  },
  {
   "cell_type": "code",
   "execution_count": 5,
   "metadata": {},
   "outputs": [
    {
     "data": {
      "text/plain": [
       "<sqlite3.Cursor at 0x199c6f1edc0>"
      ]
     },
     "execution_count": 5,
     "metadata": {},
     "output_type": "execute_result"
    }
   ],
   "source": [
    "import datetime\n",
    "dob1 = datetime.date(1991, 1,1)\n",
    "\n",
    "cursor.execute('''INSERT INTO users(name, phone, email, dob, admin)\n",
    "                  VALUES(:name,:phone, :email, :dob, :admin)''',\n",
    "                  {'name':'Joe', 'phone':'222-333-4444', 'email':'joe2@email.com', 'dob':datetime.date(1992, 2,2),'admin': 2 })\n",
    "\n",
    "cursor.execute('''INSERT INTO users(name, phone, email, dob, admin)\n",
    "                  VALUES(:name,:phone, :email, :dob, :admin)''',\n",
    "                  {'name':'Jamie', 'phone':'111-111-111', 'email':'jamielee@email.com', 'dob':datetime.date(1996, 7,12),'admin': 1})\n",
    "\n",
    "cursor.execute('''INSERT INTO venues(bldg_code, floor_num, room_num, room_capacity, open_time, close_time)\n",
    "                  VALUES(:bldg_code, :floor_num, :room_num, :room_capacity, :open_time, :close_time)''',\n",
    "                  {'bldg_code':'PCL', 'floor_num':'3','room_num':'104', 'room_capacity':'30', 'open_time':'7', 'close_time':'21'})\n",
    "\n"
   ]
  },
  {
   "cell_type": "code",
   "execution_count": 6,
   "metadata": {},
   "outputs": [
    {
     "name": "stdout",
     "output_type": "stream",
     "text": [
      "(1, 'Joe', '222-333-4444', 'joe2@email.com', '1992-02-02', 2)\n",
      "(2, 'Jamie', '111-111-111', 'jamielee@email.com', '1996-07-12', 1)\n",
      "(1, 'PCL', 3, 104, 30, 7, 21)\n"
     ]
    }
   ],
   "source": [
    "#To print out all elements in the users table\n",
    "for row in cursor.execute('''SELECT * FROM users'''):\n",
    "    print(row)\n",
    "    \n",
    "for row in cursor.execute('''SELECT * FROM venues'''):\n",
    "    print(row)\n",
    "    \n",
    "for row in cursor.execute('''SELECT * FROM events'''):\n",
    "    print(row)"
   ]
  },
  {
   "cell_type": "markdown",
   "metadata": {},
   "source": [
    "## Adding a user ## \n",
    "\n",
    "### Parameters: ###\n",
    "1. **db**: database\n",
    "2. **name**: name of the user\n",
    "3. **phone**: phone of the user\n",
    "4. **email**: email of the user (must be unique)\n",
    "5. **dob**: date of birth\n",
    "6. **admin**: checks whether the user is an admin or not"
   ]
  },
  {
   "cell_type": "markdown",
   "metadata": {},
   "source": [
    "### Add a new user (admin only)"
   ]
  },
  {
   "cell_type": "code",
   "execution_count": 7,
   "metadata": {
    "scrolled": true
   },
   "outputs": [
    {
     "ename": "Exception",
     "evalue": "ERROR: Not an admin",
     "output_type": "error",
     "traceback": [
      "\u001b[1;31m---------------------------------------------------------------------------\u001b[0m",
      "\u001b[1;31mException\u001b[0m                                 Traceback (most recent call last)",
      "\u001b[1;32m<ipython-input-7-51da8252c095>\u001b[0m in \u001b[0;36m<module>\u001b[1;34m\u001b[0m\n\u001b[0;32m     14\u001b[0m \u001b[1;33m\u001b[0m\u001b[0m\n\u001b[0;32m     15\u001b[0m \u001b[1;33m\u001b[0m\u001b[0m\n\u001b[1;32m---> 16\u001b[1;33m \u001b[0madduser\u001b[0m\u001b[1;33m(\u001b[0m\u001b[1;36m1\u001b[0m\u001b[1;33m,\u001b[0m \u001b[1;34m'BOB'\u001b[0m\u001b[1;33m,\u001b[0m \u001b[1;34m'222-222-222'\u001b[0m\u001b[1;33m,\u001b[0m \u001b[1;34m'bobthebuilder@gmail.com'\u001b[0m\u001b[1;33m,\u001b[0m \u001b[1;34m'1997-01-11'\u001b[0m\u001b[1;33m,\u001b[0m \u001b[1;36m2\u001b[0m\u001b[1;33m)\u001b[0m\u001b[1;33m\u001b[0m\u001b[1;33m\u001b[0m\u001b[0m\n\u001b[0m\u001b[0;32m     17\u001b[0m \u001b[1;33m\u001b[0m\u001b[0m\n\u001b[0;32m     18\u001b[0m \u001b[1;33m\u001b[0m\u001b[0m\n",
      "\u001b[1;32m<ipython-input-7-51da8252c095>\u001b[0m in \u001b[0;36madduser\u001b[1;34m(user_id, name, phone, email, dob, admin)\u001b[0m\n\u001b[0;32m     11\u001b[0m         \u001b[1;32mreturn\u001b[0m\u001b[1;33m(\u001b[0m\u001b[1;34m'New user added'\u001b[0m\u001b[1;33m)\u001b[0m\u001b[1;33m\u001b[0m\u001b[1;33m\u001b[0m\u001b[0m\n\u001b[0;32m     12\u001b[0m     \u001b[1;32melse\u001b[0m\u001b[1;33m:\u001b[0m\u001b[1;33m\u001b[0m\u001b[1;33m\u001b[0m\u001b[0m\n\u001b[1;32m---> 13\u001b[1;33m         \u001b[1;32mraise\u001b[0m \u001b[0mException\u001b[0m\u001b[1;33m(\u001b[0m\u001b[1;34m'ERROR: Not an admin'\u001b[0m\u001b[1;33m)\u001b[0m\u001b[1;33m\u001b[0m\u001b[1;33m\u001b[0m\u001b[0m\n\u001b[0m\u001b[0;32m     14\u001b[0m \u001b[1;33m\u001b[0m\u001b[0m\n\u001b[0;32m     15\u001b[0m \u001b[1;33m\u001b[0m\u001b[0m\n",
      "\u001b[1;31mException\u001b[0m: ERROR: Not an admin"
     ]
    }
   ],
   "source": [
    "\n",
    "def adduser(user_id, name, phone, email, dob, admin):\n",
    "    ## Grabs the row of information that connects to the user_id\n",
    "    adminCheck = cursor.execute('''SELECT * FROM users WHERE user_id = ? ''', (user_id,))\n",
    "    entry = cursor.fetchone()\n",
    "\n",
    "    ## Checking that the user is an admin\n",
    "    if entry[5] == 1: \n",
    "        sql = \"INSERT INTO users(name, phone, email, dob, admin) VALUES(?, ?, ?, ?, ?)\"\n",
    "        cursor.execute(sql, (name, phone, email, dob, admin))\n",
    "        db.commit()\n",
    "        return('New user added')\n",
    "    else:\n",
    "        raise Exception('ERROR: Not an admin') \n",
    "\n",
    "    \n",
    "adduser(1, 'BOB', '222-222-222', 'bobthebuilder@gmail.com', '1997-01-11', 2)\n",
    "\n",
    "\n",
    "for row in cursor.execute('''SELECT * FROM users'''):\n",
    "    print(row)\n",
    "\n",
    "\n"
   ]
  },
  {
   "cell_type": "markdown",
   "metadata": {},
   "source": [
    "### Add a new venue (admin only) "
   ]
  },
  {
   "cell_type": "code",
   "execution_count": 8,
   "metadata": {},
   "outputs": [
    {
     "name": "stdout",
     "output_type": "stream",
     "text": [
      "(1, 'PCL', 3, 104, 30, 7, 21)\n",
      "(2, 'CBA', 2, 111, 20, None, None)\n"
     ]
    }
   ],
   "source": [
    "## Adding a venue\n",
    "## TODO: Find a way to make this admin only\n",
    "\n",
    "def addvenue(db, bldg_code, floor_num, room_num, room_capacity, open_time, close_time):\n",
    "    sql = \"INSERT INTO venues(bldg_code, floor_num, room_num, room_capacity, open_time, close_time) VALUES(?, ?, ?, ?)\"\n",
    "    cursor = db.cursor()\n",
    "    cursor.execute(sql, (bldg_code, floor_num, room_num, room_capacity, open_time, close_time))\n",
    "    return \"boot\"\n",
    "\n",
    "addvenue(db, 'CBA', 2, 111, 20, 7, 19)\n",
    "\n",
    "for row in cursor.execute('''SELECT * FROM venues'''):\n",
    "    print(row)"
   ]
  },
  {
   "cell_type": "markdown",
   "metadata": {},
   "source": [
    "### Start an event (user or admin on behalf of a user) "
   ]
  },
  {
   "cell_type": "code",
   "execution_count": 9,
   "metadata": {},
   "outputs": [],
   "source": [
    "## start an event\n",
    "\n",
    "def addevent(db, name, description, start_time, event_time, capacity, venue_id, event_owner):\n",
    "    sql = \"INSERT INTO events(name, description, start_time, event_time, capacity, venue_id, event_owner) VALUES(?, ?, ?, ?, ?, ?, ?)\"\n",
    "    cursor = db.cursor()\n",
    "    cursor.execute(sql, (name, description, start_time, event_time, capacity, venue_id, event_owner))\n",
    "    return \"boot\"\n"
   ]
  },
  {
   "cell_type": "code",
   "execution_count": 16,
   "metadata": {},
   "outputs": [
    {
     "name": "stdout",
     "output_type": "stream",
     "text": [
      "(1, 'test', 'a test of the system', '2016-09-01 07:00:00', '2016-09-01 09:00:00', 30, 1, 2)\n"
     ]
    }
   ],
   "source": [
    "addevent(db, 'test', 'a test of the system', datetime(2016, 9, 1, 7), 2,  30, 1, 2)\n",
    "\n",
    "for row in cursor.execute('''SELECT * FROM events'''):\n",
    "    print(row)"
   ]
  },
  {
   "cell_type": "code",
   "execution_count": 17,
   "metadata": {},
   "outputs": [],
   "source": [
    "for row in cursor.execute('''SELECT * FROM confirmedEvents'''):\n",
    "    print(row)"
   ]
  },
  {
   "cell_type": "markdown",
   "metadata": {},
   "source": [
    "### Display timeslot availability at a venue "
   ]
  },
  {
   "cell_type": "code",
   "execution_count": 13,
   "metadata": {},
   "outputs": [
    {
     "name": "stdout",
     "output_type": "stream",
     "text": [
      "['2016-09-01 07:00', '2016-09-01 08:00', '2016-09-01 09:00', '2016-09-01 10:00', '2016-09-01 11:00', '2016-09-01 12:00', '2016-09-01 13:00', '2016-09-01 14:00', '2016-09-01 15:00', '2016-09-01 16:00', '2016-09-01 17:00', '2016-09-01 18:00', '2016-09-01 19:00', '2016-09-01 20:00']\n"
     ]
    }
   ],
   "source": [
    "#Trying to figure out timeslots\n",
    "from datetime import datetime, timedelta\n",
    "\n",
    "def datetime_range(start, end, delta):\n",
    "    while start < end:\n",
    "        yield start\n",
    "        start += delta\n",
    "\n",
    "dts = [dt.strftime('%Y-%m-%d %H:%M') for dt in \n",
    "       datetime_range(datetime(2016, 9, 1, 7), datetime(2016, 9, 1, 9+12), \n",
    "       timedelta(minutes=60))]\n",
    "print(dts)"
   ]
  },
  {
   "cell_type": "code",
   "execution_count": null,
   "metadata": {},
   "outputs": [],
   "source": []
  },
  {
   "cell_type": "code",
   "execution_count": null,
   "metadata": {},
   "outputs": [],
   "source": []
  }
 ],
 "metadata": {
  "kernelspec": {
   "display_name": "Python 3",
   "language": "python",
   "name": "python3"
  },
  "language_info": {
   "codemirror_mode": {
    "name": "ipython",
    "version": 3
   },
   "file_extension": ".py",
   "mimetype": "text/x-python",
   "name": "python",
   "nbconvert_exporter": "python",
   "pygments_lexer": "ipython3",
   "version": "3.6.8"
  }
 },
 "nbformat": 4,
 "nbformat_minor": 2
}
