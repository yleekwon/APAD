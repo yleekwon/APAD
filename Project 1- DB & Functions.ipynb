{
 "cells": [
  {
   "cell_type": "markdown",
   "metadata": {},
   "source": [
    "# Project 1 - Room Booking App #\n",
    "### Dhrov Subramanian & Yeggi Lee ###"
   ]
  },
  {
   "cell_type": "markdown",
   "metadata": {},
   "source": [
    "## Creating the tables ##\n",
    "\n",
    "1. users\n",
    "2. venues\n",
    "3. events\n",
    "4. confirmedEvents\n"
   ]
  },
  {
   "cell_type": "code",
   "execution_count": 2,
   "metadata": {},
   "outputs": [],
   "source": [
    "import sqlite3\n",
    "import pandas as pd\n",
    "\n",
    "#db=sqlite3.connect(\"/Users/ylee/Desktop/sqlite/test.db\")\n",
    "db=sqlite3.connect(\"/sqlite3/test.db\")\n",
    "cursor = db.cursor()\n",
    "\n",
    "cursor.execute('''\n",
    "    DROP TABLE IF EXISTS users''');\n",
    "cursor.execute('''\n",
    "    DROP TABLE IF EXISTS venues''');\n",
    "cursor.execute('''\n",
    "    DROP TABLE IF EXISTS events''');\n",
    "cursor.execute('''\n",
    "    DROP TABLE IF EXISTS confirmedEvents''');\n",
    "cursor.execute('''\n",
    "    DROP TABLE IF EXISTS Time''');\n",
    "\n",
    "#Make email unique after testing please. \n",
    "\n",
    "cursor.execute('''\n",
    "    CREATE TABLE users(\n",
    "                       user_id INTEGER PRIMARY KEY, \n",
    "                       name TEXT,\n",
    "                       phone TEXT, \n",
    "                       email TEXT UNIQUE, \n",
    "                       EID TEXT UNIQUE,\n",
    "                       admin BOOLEAN)\n",
    "''');\n",
    "\n",
    "cursor.execute('''\n",
    "    CREATE TABLE venues(\n",
    "                        venue_id INTEGER PRIMARY KEY, \n",
    "                        bldg_code TEXT,\n",
    "                        floor_num INTEGER,\n",
    "                        room_num INTEGER, \n",
    "                        room_capacity INTEGER,\n",
    "                        open_time TEXT,\n",
    "                        close_time TEXT,\n",
    "                        time_id INTEGER,\n",
    "                        CONSTRAINT \n",
    "                             fk_events FOREIGN KEY (time_id) \n",
    "                             REFERENCES time(time_id))\n",
    "''');\n",
    "\n",
    "cursor.execute('''\n",
    "    CREATE TABLE events(\n",
    "                        event_id INTEGER PRIMARY KEY, \n",
    "                        name TEXT, \n",
    "                        description TEXT,  \n",
    "                        capacity INTEGER, \n",
    "                        venue_id INTEGER,\n",
    "                        event_owner INTEGER,\n",
    "                        time_id INTEGER,\n",
    "                        CONSTRAINT \n",
    "                             fk_events FOREIGN KEY (time_id) \n",
    "                             REFERENCES time(time_id),\n",
    "                        CONSTRAINT \n",
    "                            fk_venues FOREIGN KEY (venue_id) \n",
    "                            REFERENCES venues(venue_id),\n",
    "                        CONSTRAINT \n",
    "                            fk_users FOREIGN KEY (event_owner) \n",
    "                            REFERENCES users(user_id))\n",
    "                   \n",
    "''');\n",
    "\n",
    "cursor.execute('''\n",
    "    CREATE TABLE confirmedEvents(\n",
    "                                 confirmedEvents_id INTEGER PRIMARY KEY, \n",
    "                                 event_id INTEGER, user_id INTEGER,\n",
    "                                 CONSTRAINT \n",
    "                                     fk_events FOREIGN KEY (event_id) \n",
    "                                     REFERENCES events(event_id),\n",
    "                                 CONSTRAINT \n",
    "                                     fk_users FOREIGN KEY (user_id) \n",
    "                                     REFERENCES users(user_id))\n",
    "''');\n",
    "\n",
    "cursor.execute('''\n",
    "    CREATE TABLE Time(\n",
    "                       time_id INTEGER PRIMARY KEY, \n",
    "                       event_id INTEGER, venue_id INTEGER,\n",
    "                         CONSTRAINT \n",
    "                             fk_events FOREIGN KEY (event_id) \n",
    "                             REFERENCES events(event_id),\n",
    "                         CONSTRAINT \n",
    "                             fk_users FOREIGN KEY (venue_id) \n",
    "                             REFERENCES venue(venue_id))\n",
    "''');\n",
    "\n",
    "db.commit()"
   ]
  },
  {
   "cell_type": "markdown",
   "metadata": {},
   "source": [
    "In the section below, we're adding test subjects to check that the tables are working correctly."
   ]
  },
  {
   "cell_type": "code",
   "execution_count": 3,
   "metadata": {},
   "outputs": [
    {
     "data": {
      "text/plain": [
       "<sqlite3.Cursor at 0x1c6df53ee30>"
      ]
     },
     "execution_count": 3,
     "metadata": {},
     "output_type": "execute_result"
    }
   ],
   "source": [
    "import datetime\n",
    "dob1 = datetime.date(1991, 1,1)\n",
    "\n",
    "cursor.execute('''INSERT INTO users(name, phone, email, EID, admin)\n",
    "                  VALUES(:name,:phone, :email, :EID, :admin)''',\n",
    "                  {'name':'Joe', 'phone':'222-333-4444', 'email':'joe2@email.com', 'EID': 'ds39547','admin': 0 })\n",
    "\n",
    "cursor.execute('''INSERT INTO users(name, phone, email, EID, admin)\n",
    "                  VALUES(:name,:phone, :email, :EID, :admin)''',\n",
    "                  {'name':'Jamie', 'phone':'111-111-111', 'email':'jamielee@email.com', 'EID': 'ds39548' ,'admin': 1})\n",
    "\n",
    "cursor.execute('''INSERT INTO venues(bldg_code, floor_num, room_num, room_capacity, open_time, close_time)\n",
    "                  VALUES(:bldg_code, :floor_num, :room_num, :room_capacity, :open_time, :close_time)''',\n",
    "                  {'bldg_code':'PCL', 'floor_num':'3','room_num':'104', 'room_capacity':'30', 'open_time':'07:00', 'close_time':'21:00'})\n",
    "\n"
   ]
  },
  {
   "cell_type": "code",
   "execution_count": 4,
   "metadata": {},
   "outputs": [
    {
     "name": "stdout",
     "output_type": "stream",
     "text": [
      "(1, 'Joe', '222-333-4444', 'joe2@email.com', 'ds39547', 0)\n",
      "(2, 'Jamie', '111-111-111', 'jamielee@email.com', 'ds39548', 1)\n",
      "(1, 'PCL', 3, 104, 30, '07:00', '21:00', None)\n"
     ]
    }
   ],
   "source": [
    "#To print out all elements in the users table\n",
    "for row in cursor.execute('''SELECT * FROM users'''):\n",
    "    print(row)\n",
    "    \n",
    "for row in cursor.execute('''SELECT * FROM venues'''):\n",
    "    print(row)\n",
    "    \n",
    "for row in cursor.execute('''SELECT * FROM events'''):\n",
    "    print(row)"
   ]
  },
  {
   "cell_type": "markdown",
   "metadata": {},
   "source": [
    "## Adding a user ## \n",
    "\n",
    "### Parameters: ###\n",
    "1. **db**: database\n",
    "2. **name**: name of the user\n",
    "3. **phone**: phone of the user\n",
    "4. **email**: email of the user (must be unique)\n",
    "5. **EID**: EID of the user\n",
    "6. **admin**: checks whether the user is an admin or not (0 = False, 1 = True)\n",
    "\n",
    "### Sequence: ###\n",
    "1. Using the user_id, the function fetches the information of that entry \n",
    "2. With that info, the function is able to determine if the user is an admin or not\n",
    "3. If the user is an admin, the user is added to the database\n",
    "4. If the user is not an admin, an error is raised "
   ]
  },
  {
   "cell_type": "markdown",
   "metadata": {},
   "source": [
    "### Add a new user (admin only)"
   ]
  },
  {
   "cell_type": "code",
   "execution_count": 5,
   "metadata": {
    "scrolled": true
   },
   "outputs": [
    {
     "name": "stdout",
     "output_type": "stream",
     "text": [
      "   user_id   name         phone                    email         EID  admin\n",
      "0        1    Joe  222-333-4444           joe2@email.com     ds39547      0\n",
      "1        2  Jamie   111-111-111       jamielee@email.com     ds39548      1\n",
      "2        3    Bob   222-222-222  bobthebuilder@gmail.com  1997-01-11      0\n"
     ]
    }
   ],
   "source": [
    "def adduser(user_id, name, phone, email, EID, admin):\n",
    "    ## Grabs the row of information that connects to the user_id\n",
    "    adminCheck = cursor.execute('''SELECT * FROM users WHERE user_id = ? ''', (user_id,))\n",
    "    entry = cursor.fetchone()\n",
    "\n",
    "    ## Checking that the user is an admin\n",
    "    if entry[5] == 1: \n",
    "        sql = \"INSERT INTO users(name, phone, email, EID, admin) VALUES(?, ?, ?, ?, ?)\"\n",
    "        cursor.execute(sql, (name, phone, email, EID, admin))\n",
    "        db.commit()\n",
    "        return('New user added')\n",
    "    else:\n",
    "        raise Exception('ERROR: Not an admin') \n",
    "\n",
    "    \n",
    "adduser(2, 'Bob', '222-222-222', 'bobthebuilder@gmail.com', '1997-01-11', 0)\n",
    "\n",
    "\n",
    "print(pd.read_sql_query(\"SELECT * FROM users\", db))\n"
   ]
  },
  {
   "cell_type": "markdown",
   "metadata": {},
   "source": [
    "## Adding a venue ## \n",
    "\n",
    "### Parameters: ###\n",
    "1. **user_id**: id of the user (primary key)\n",
    "2. **bldg_code**: building code of the building (should be 3 letters)\n",
    "3. **floor_num**: floor of the room\n",
    "4. **room_num**: number of the room\n",
    "5. **room_capacity**: how many people can fit in the room\n",
    "\n",
    "### Sequence: ###\n",
    "1. Using the user_id, the function fetches the information of that entry \n",
    "2. With that info, the function is able to determine if the user is an admin or not\n",
    "3. If the user is an admin, the venue is added to the database\n",
    "4. If the user is not an admin, an error is raised "
   ]
  },
  {
   "cell_type": "code",
   "execution_count": 6,
   "metadata": {},
   "outputs": [
    {
     "name": "stdout",
     "output_type": "stream",
     "text": [
      "   venue_id bldg_code  floor_num  room_num  room_capacity open_time  \\\n",
      "0         1       PCL          3       104             30     07:00   \n",
      "1         2       CBA          4       211             40      None   \n",
      "\n",
      "  close_time time_id  \n",
      "0      21:00    None  \n",
      "1       None    None  \n"
     ]
    }
   ],
   "source": [
    "## Adding a venue\n",
    "## TODO: Find a way to make this admin only\n",
    "\n",
    "def addvenue(user_id, bldg_code, floor_num, room_num, room_capacity):\n",
    "    ## Grabs the row of information that connects to the user_id\n",
    "    adminCheck = cursor.execute('''SELECT * FROM users WHERE user_id = ? ''', (user_id,))\n",
    "    entry = cursor.fetchone()\n",
    "\n",
    "    ## Checking that the user is an admin\n",
    "    if entry[5] == 1: \n",
    "        sql = \"INSERT INTO venues(bldg_code, floor_num, room_num, room_capacity) VALUES(?, ?, ?, ?)\"\n",
    "        cursor.execute(sql, (bldg_code, floor_num, room_num, room_capacity))\n",
    "        db.commit()\n",
    "        return('New venue added')\n",
    "    else:\n",
    "        raise Exception('ERROR: Not an admin') \n",
    "\n",
    "addvenue(2, 'CBA', 4, 211, 40)\n",
    "\n",
    "\n",
    "print(pd.read_sql_query(\"SELECT * FROM venues\", db))"
   ]
  },
  {
   "cell_type": "markdown",
   "metadata": {},
   "source": [
    "## Start an Event ## \n",
    "\n",
    "### Parameters: ###\n",
    "\n",
    "### Sequence: ###"
   ]
  },
  {
   "cell_type": "code",
   "execution_count": 7,
   "metadata": {},
   "outputs": [
    {
     "name": "stdout",
     "output_type": "stream",
     "text": [
      "   event_id  name           description           start_time  event_time  \\\n",
      "0         1  test  a test of the system  2016-09-01 08:00:00           2   \n",
      "\n",
      "   capacity  venue_id  event_owner time_id  \n",
      "0        30         1            2    None  \n"
     ]
    }
   ],
   "source": [
    "## start an event\n",
    "from datetime import datetime, timedelta\n",
    "'''\n",
    "    sql_Vcapacity = \"Select room_capacity FROM venues WHERE venues.venue_id = event.venue_id\"\n",
    "    #^^ this line sux\n",
    "    if capacity > int(sql_Vcapacity):\n",
    "        sql = \"INSERT INTO events(name, description, start_time, event_time, capacity, venue_id, event_owner) VALUES(?, ?, ?, ?, ?, ?, ?)\"\n",
    "        cursor = db.cursor()\n",
    "        cursor.execute(sql, (name, description, start_time, event_time, capacity, venue_id, event_owner))\n",
    "        return('New event added')\n",
    "    else:\n",
    "        raise Exception('ERROR: Room capacity exceeded')    \n",
    "'''\n",
    "\n",
    "def addevent(db, name, description, start_time, event_time, capacity, venue_id, event_owner):\n",
    "    sql = \"INSERT INTO events(name, description, start_time, event_time, capacity, venue_id, event_owner) VALUES(?, ?, ?, ?, ?, ?, ?)\"\n",
    "    cursor = db.cursor()\n",
    "    cursor.execute(sql, (name, description, start_time, event_time, capacity, venue_id, event_owner))\n",
    "    return \"boot\"\n",
    "\n",
    "addevent(db, 'test', 'a test of the system', datetime(2016, 9, 1, 8), 2,  30, 1, 2)\n",
    "\n",
    "print(pd.read_sql_query(\"SELECT * FROM events\", db))"
   ]
  },
  {
   "cell_type": "code",
   "execution_count": null,
   "metadata": {},
   "outputs": [],
   "source": []
  },
  {
   "cell_type": "code",
   "execution_count": 8,
   "metadata": {},
   "outputs": [
    {
     "name": "stdout",
     "output_type": "stream",
     "text": [
      "Empty DataFrame\n",
      "Columns: [confirmedEvents_id, event_id, user_id]\n",
      "Index: []\n"
     ]
    }
   ],
   "source": [
    "print(pd.read_sql_query(\"SELECT * FROM confirmedEvents\", db))"
   ]
  },
  {
   "cell_type": "markdown",
   "metadata": {},
   "source": [
    "### Display timeslot availability at a venue "
   ]
  },
  {
   "cell_type": "code",
   "execution_count": 9,
   "metadata": {},
   "outputs": [
    {
     "name": "stdout",
     "output_type": "stream",
     "text": [
      "[Index(['2016-09-01 08:00'], dtype='object'), Index(['2016-09-01 09:00'], dtype='object'), Index(['2016-09-01 10:00'], dtype='object'), Index(['2016-09-01 11:00'], dtype='object'), Index(['2016-09-01 12:00'], dtype='object'), Index(['2016-09-01 13:00'], dtype='object'), Index(['2016-09-01 14:00'], dtype='object'), Index(['2016-09-01 15:00'], dtype='object'), Index(['2016-09-01 16:00'], dtype='object'), Index(['2016-09-01 17:00'], dtype='object'), Index(['2016-09-01 18:00'], dtype='object'), Index(['2016-09-01 19:00'], dtype='object'), Index(['2016-09-01 20:00'], dtype='object')]\n"
     ]
    }
   ],
   "source": [
    "#Trying to figure out timeslots\n",
    "from datetime import datetime, timedelta\n",
    "import pandas as pd\n",
    "\n",
    "def datetime_range(start, end, delta):\n",
    "    while start < end:\n",
    "        yield start\n",
    "        start += delta\n",
    "\n",
    "sql_time = \"Select start_time FROM events\"\n",
    "sql_time2 = \"Select event_time FROM events\"\n",
    "\n",
    "for row in cursor.execute(sql_time):\n",
    "    dts =[]\n",
    "    start = (pd.to_datetime(row));\n",
    "    dts += [dt.strftime('%Y-%m-%d %H:%M') for dt in \n",
    "           datetime_range(start , datetime(2016, 9, 1, 9+12), \n",
    "           timedelta(minutes=60))]\n",
    "    print(dts)\n",
    "    \n"
   ]
  },
  {
   "cell_type": "code",
   "execution_count": 10,
   "metadata": {},
   "outputs": [
    {
     "ename": "TypeError",
     "evalue": "strptime() argument 1 must be str, not tuple",
     "output_type": "error",
     "traceback": [
      "\u001b[1;31m---------------------------------------------------------------------------\u001b[0m",
      "\u001b[1;31mTypeError\u001b[0m                                 Traceback (most recent call last)",
      "\u001b[1;32m<ipython-input-10-ac0d7b7292a1>\u001b[0m in \u001b[0;36m<module>\u001b[1;34m\u001b[0m\n\u001b[0;32m      3\u001b[0m \u001b[1;33m\u001b[0m\u001b[0m\n\u001b[0;32m      4\u001b[0m \u001b[1;32mfor\u001b[0m \u001b[0mrow\u001b[0m \u001b[1;32min\u001b[0m \u001b[0mcursor\u001b[0m\u001b[1;33m.\u001b[0m\u001b[0mexecute\u001b[0m\u001b[1;33m(\u001b[0m\u001b[0msql_time\u001b[0m\u001b[1;33m)\u001b[0m\u001b[1;33m:\u001b[0m\u001b[1;33m\u001b[0m\u001b[1;33m\u001b[0m\u001b[0m\n\u001b[1;32m----> 5\u001b[1;33m     \u001b[0mstart\u001b[0m \u001b[1;33m=\u001b[0m \u001b[0mdatetime\u001b[0m\u001b[1;33m.\u001b[0m\u001b[0mstrptime\u001b[0m\u001b[1;33m(\u001b[0m\u001b[0mrow\u001b[0m\u001b[1;33m,\u001b[0m \u001b[1;34m\"%H:%M\"\u001b[0m\u001b[1;33m)\u001b[0m\u001b[1;33m;\u001b[0m\u001b[1;33m\u001b[0m\u001b[1;33m\u001b[0m\u001b[0m\n\u001b[0m\u001b[0;32m      6\u001b[0m     \u001b[0mprint\u001b[0m \u001b[1;33m(\u001b[0m\u001b[0mstart\u001b[0m\u001b[1;33m)\u001b[0m\u001b[1;33m\u001b[0m\u001b[1;33m\u001b[0m\u001b[0m\n\u001b[0;32m      7\u001b[0m \u001b[1;33m\u001b[0m\u001b[0m\n",
      "\u001b[1;31mTypeError\u001b[0m: strptime() argument 1 must be str, not tuple"
     ]
    }
   ],
   "source": [
    "sql_time = \"Select open_time FROM venues\"\n",
    "sql_time2 = \"Select close_time FROM venues\" \n",
    "\n",
    "for row in cursor.execute(sql_time):\n",
    "    start = datetime.strptime(row, \"%H:%M\");\n",
    "    print (start)\n",
    "    \n",
    "\n"
   ]
  },
  {
   "cell_type": "code",
   "execution_count": null,
   "metadata": {},
   "outputs": [],
   "source": []
  },
  {
   "cell_type": "code",
   "execution_count": null,
   "metadata": {},
   "outputs": [],
   "source": []
  }
 ],
 "metadata": {
  "kernelspec": {
   "display_name": "Python 3",
   "language": "python",
   "name": "python3"
  },
  "language_info": {
   "codemirror_mode": {
    "name": "ipython",
    "version": 3
   },
   "file_extension": ".py",
   "mimetype": "text/x-python",
   "name": "python",
   "nbconvert_exporter": "python",
   "pygments_lexer": "ipython3",
   "version": "3.6.8"
  }
 },
 "nbformat": 4,
 "nbformat_minor": 2
}
