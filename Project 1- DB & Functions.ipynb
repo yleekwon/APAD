{
 "cells": [
  {
   "cell_type": "code",
   "execution_count": 24,
   "metadata": {},
   "outputs": [],
   "source": [
    "import sqlite3\n",
    "db=sqlite3.connect(\"/sqlite3/db/test.db\")\n",
    "cursor = db.cursor()\n",
    "\n",
    "cursor.execute('''\n",
    "    DROP TABLE IF EXISTS users''');\n",
    "cursor.execute('''\n",
    "    DROP TABLE IF EXISTS venues''');\n",
    "cursor.execute('''\n",
    "    DROP TABLE IF EXISTS events''');\n",
    "cursor.execute('''\n",
    "    DROP TABLE IF EXISTS confirmedEvents''');\n",
    "\n",
    "\n",
    "cursor.execute('''\n",
    "    CREATE TABLE users(user_id INTEGER PRIMARY KEY, name TEXT,\n",
    "                       phone TEXT, email TEXT unique, dob DATE)\n",
    "''');\n",
    "\n",
    "cursor.execute('''\n",
    "    CREATE TABLE venues(venue_id INTEGER PRIMARY KEY, bldg_code TEXT,\n",
    "                       room_num DOUBLE, room_capacity INTEGER unique)\n",
    "''');\n",
    "\n",
    "cursor.execute('''\n",
    "    CREATE TABLE events(event_id INTEGER PRIMARY KEY, name TEXT,\n",
    "                       description TEXT, start_time TIMESTAMP,\n",
    "                       end_time TIMESTAMP, capacity INTEGER, venue_id INTEGER,\n",
    "                       CONSTRAINT fk_venues FOREIGN KEY (venue_id) REFERENCES venues(venue_id))\n",
    "''');\n",
    "\n",
    "cursor.execute('''\n",
    "    CREATE TABLE confirmedEvents(confirmedEvents_id INTEGER PRIMARY KEY, \n",
    "                        event_id INTEGER, user_id INTEGER,\n",
    "                        CONSTRAINT fk_events FOREIGN KEY (event_id) REFERENCES events(event_id),\n",
    "                        CONSTRAINT fk_users FOREIGN KEY (user_id) REFERENCES users(user_id))\n",
    "''');\n",
    "\n",
    "db.commit()"
   ]
  },
  {
   "cell_type": "code",
   "execution_count": 25,
   "metadata": {},
   "outputs": [],
   "source": [
    "import datetime\n",
    "dob1 = datetime.date(1991, 1,1)"
   ]
  },
  {
   "cell_type": "code",
   "execution_count": 29,
   "metadata": {},
   "outputs": [
    {
     "data": {
      "text/plain": [
       "<sqlite3.Cursor at 0x1c54b09c3b0>"
      ]
     },
     "execution_count": 29,
     "metadata": {},
     "output_type": "execute_result"
    }
   ],
   "source": [
    "cursor.execute('''INSERT INTO users(name, phone, email, dob)\n",
    "                  VALUES(:name,:phone, :email, :dob)''',\n",
    "                  {'name':'Joe', 'phone':'222-333-4444', 'email':'joe2@email.com', 'dob':datetime.date(1992, 2,2)})"
   ]
  },
  {
   "cell_type": "code",
   "execution_count": 30,
   "metadata": {},
   "outputs": [
    {
     "name": "stdout",
     "output_type": "stream",
     "text": [
      "(1, 'Joe', '222-333-4444', 'joe1@email.com', '1992-02-02')\n",
      "(2, 'Joe', '222-333-4444', 'joe2@email.com', '1992-02-02')\n"
     ]
    }
   ],
   "source": [
    "#To print out all elements in the users table\n",
    "for row in cursor.execute('''SELECT * FROM users'''):\n",
    "    print(row)\n",
    "    \n",
    "for row in cursor.execute('''SELECT * FROM venues'''):\n",
    "    print(row)\n",
    "    \n",
    "for row in cursor.execute('''SELECT * FROM events'''):\n",
    "    print(row)"
   ]
  },
  {
   "cell_type": "code",
   "execution_count": 17,
   "metadata": {},
   "outputs": [
    {
     "data": {
      "text/plain": [
       "<sqlite3.Cursor at 0x1c54b07df80>"
      ]
     },
     "execution_count": 17,
     "metadata": {},
     "output_type": "execute_result"
    }
   ],
   "source": [
    "\n"
   ]
  },
  {
   "cell_type": "code",
   "execution_count": null,
   "metadata": {},
   "outputs": [],
   "source": []
  },
  {
   "cell_type": "code",
   "execution_count": null,
   "metadata": {},
   "outputs": [],
   "source": []
  }
 ],
 "metadata": {
  "kernelspec": {
   "display_name": "Python 3",
   "language": "python",
   "name": "python3"
  },
  "language_info": {
   "codemirror_mode": {
    "name": "ipython",
    "version": 3
   },
   "file_extension": ".py",
   "mimetype": "text/x-python",
   "name": "python",
   "nbconvert_exporter": "python",
   "pygments_lexer": "ipython3",
   "version": "3.6.8"
  }
 },
 "nbformat": 4,
 "nbformat_minor": 2
}
