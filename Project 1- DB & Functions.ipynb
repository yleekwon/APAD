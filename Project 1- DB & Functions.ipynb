{
 "cells": [
  {
   "cell_type": "markdown",
   "metadata": {},
   "source": [
    "# Project 1 - Room Booking App #\n",
    "### Dhrov Subramanian & Yeggi Lee ###"
   ]
  },
  {
   "cell_type": "markdown",
   "metadata": {},
   "source": [
    "## Creating the tables ##\n",
    "\n",
    "1. users\n",
    "2. venues\n",
    "3. events\n",
    "4. confirmedEvents\n"
   ]
  },
  {
   "cell_type": "code",
   "execution_count": 7,
   "metadata": {},
   "outputs": [
    {
     "ename": "OperationalError",
     "evalue": "database is locked",
     "output_type": "error",
     "traceback": [
      "\u001b[0;31m---------------------------------------------------------------------------\u001b[0m",
      "\u001b[0;31mOperationalError\u001b[0m                          Traceback (most recent call last)",
      "\u001b[0;32m<ipython-input-7-cad17949dbab>\u001b[0m in \u001b[0;36m<module>\u001b[0;34m\u001b[0m\n\u001b[1;32m      4\u001b[0m \u001b[0;34m\u001b[0m\u001b[0m\n\u001b[1;32m      5\u001b[0m cursor.execute('''\n\u001b[0;32m----> 6\u001b[0;31m     DROP TABLE IF EXISTS users''');\n\u001b[0m\u001b[1;32m      7\u001b[0m cursor.execute('''\n\u001b[1;32m      8\u001b[0m     DROP TABLE IF EXISTS venues''');\n",
      "\u001b[0;31mOperationalError\u001b[0m: database is locked"
     ]
    }
   ],
   "source": [
    "import sqlite3\n",
    "db=sqlite3.connect(\"/Users/ylee/Desktop/sqlite/test.db\")\n",
    "cursor = db.cursor()\n",
    "\n",
    "cursor.execute('''\n",
    "    DROP TABLE IF EXISTS users''');\n",
    "cursor.execute('''\n",
    "    DROP TABLE IF EXISTS venues''');\n",
    "cursor.execute('''\n",
    "    DROP TABLE IF EXISTS events''');\n",
    "cursor.execute('''\n",
    "    DROP TABLE IF EXISTS confirmedEvents''');\n",
    "\n",
    "#Make email unique after testing please\n",
    "cursor.execute('''\n",
    "    CREATE TABLE users(\n",
    "                       user_id INTEGER PRIMARY KEY, \n",
    "                       name TEXT,\n",
    "                       phone TEXT, \n",
    "                       email TEXT UNIQUE, \n",
    "                       dob DATE,\n",
    "                       admin BOOLEAN)\n",
    "''');\n",
    "\n",
    "cursor.execute('''\n",
    "    CREATE TABLE venues(\n",
    "                        venue_id INTEGER PRIMARY KEY, \n",
    "                        bldg_code TEXT,\n",
    "                        floor_num INTEGER,\n",
    "                        room_num INTEGER, \n",
    "                        room_capacity INTEGER)\n",
    "''');\n",
    "\n",
    "cursor.execute('''\n",
    "    CREATE TABLE events(\n",
    "                        event_id INTEGER PRIMARY KEY, \n",
    "                        name TEXT, \n",
    "                        description TEXT, \n",
    "                        start_time TIMESTAMP,\n",
    "                        end_time TIMESTAMP, \n",
    "                        capacity INTEGER, \n",
    "                        venue_id INTEGER,\n",
    "                        event_owner INTEGER,\n",
    "                        CONSTRAINT \n",
    "                            fk_venues FOREIGN KEY (venue_id) \n",
    "                            REFERENCES venues(venue_id),\n",
    "                        CONSTRAINT \n",
    "                            fk_users FOREIGN KEY (event_owner) \n",
    "                            REFERENCES users(user_id))\n",
    "                   \n",
    "''');\n",
    "\n",
    "cursor.execute('''\n",
    "    CREATE TABLE confirmedEvents(\n",
    "                                 confirmedEvents_id INTEGER PRIMARY KEY, \n",
    "                                 event_id INTEGER, user_id INTEGER,\n",
    "                                 CONSTRAINT \n",
    "                                     fk_events FOREIGN KEY (event_id) \n",
    "                                     REFERENCES events(event_id),\n",
    "                                 CONSTRAINT \n",
    "                                     fk_users FOREIGN KEY (user_id) \n",
    "                                     REFERENCES users(user_id))\n",
    "''');\n",
    "\n",
    "db.commit()"
   ]
  },
  {
   "cell_type": "markdown",
   "metadata": {},
   "source": [
    "In the section below, we're adding test subjects to check that the tables are working correctly."
   ]
  },
  {
   "cell_type": "code",
   "execution_count": null,
   "metadata": {},
   "outputs": [],
   "source": [
    "import datetime\n",
    "dob1 = datetime.date(1991, 1,1)\n",
    "\n",
    "cursor.execute('''INSERT INTO users(name, phone, email, dob, admin)\n",
    "                  VALUES(:name,:phone, :email, :dob, :admin)''',\n",
    "                  {'name':'Joe', 'phone':'222-333-4444', 'email':'joe2@email.com', 'dob':datetime.date(1992, 2,2),'admin': 2 })\n",
    "\n",
    "# cursor.execute('''INSERT INTO users(name, phone, email, dob, admin)\n",
    "#                   VALUES(:name,:phone, :email, :dob, :admin)''',\n",
    "#                   {'name':'Jamie', 'phone':'111-111-111', 'email':'jamielee@email.com', 'dob':datetime.date(1996, 7,12),'admin': 1})\n",
    "\n",
    "cursor.execute('''INSERT INTO venues(bldg_code, floor_num, room_num, room_capacity)\n",
    "                  VALUES(:bldg_code, :floor_num, :room_num, :room_capacity)''',\n",
    "                  {'bldg_code':'PCL', 'floor_num':'3','room_num':'104', 'room_capacity':'30'})\n",
    "\n"
   ]
  },
  {
   "cell_type": "code",
   "execution_count": null,
   "metadata": {},
   "outputs": [],
   "source": [
    "#To print out all elements in the users table\n",
    "for row in cursor.execute('''SELECT * FROM users'''):\n",
    "    print(row)\n",
    "    \n",
    "for row in cursor.execute('''SELECT * FROM venues'''):\n",
    "    print(row)\n",
    "    \n",
    "for row in cursor.execute('''SELECT * FROM events'''):\n",
    "    print(row)"
   ]
  },
  {
   "cell_type": "markdown",
   "metadata": {},
   "source": [
    "## Adding a user ## \n",
    "\n",
    "### Parameters: ###\n",
    "1. **db**: database\n",
    "2. **name**: name of the user\n",
    "3. **phone**: phone of the user\n",
    "4. **email**: email of the user (must be unique)\n",
    "5. **dob**: date of birth\n",
    "6. **admin**: checks whether the user is an admin or not"
   ]
  },
  {
   "cell_type": "code",
   "execution_count": 8,
   "metadata": {},
   "outputs": [
    {
     "name": "stdout",
     "output_type": "stream",
     "text": [
      "(2, 'Jamie', '111-111-111', 'jamielee@email.com', '1996-07-12', 1)\n"
     ]
    },
    {
     "ename": "OperationalError",
     "evalue": "database is locked",
     "output_type": "error",
     "traceback": [
      "\u001b[0;31m---------------------------------------------------------------------------\u001b[0m",
      "\u001b[0;31mOperationalError\u001b[0m                          Traceback (most recent call last)",
      "\u001b[0;32m<ipython-input-8-ceeb55d233bd>\u001b[0m in \u001b[0;36m<module>\u001b[0;34m\u001b[0m\n\u001b[1;32m     23\u001b[0m \u001b[0;34m\u001b[0m\u001b[0m\n\u001b[1;32m     24\u001b[0m \u001b[0;34m\u001b[0m\u001b[0m\n\u001b[0;32m---> 25\u001b[0;31m \u001b[0madduser\u001b[0m\u001b[0;34m(\u001b[0m\u001b[0;36m1\u001b[0m\u001b[0;34m,\u001b[0m \u001b[0;34m'James'\u001b[0m\u001b[0;34m,\u001b[0m \u001b[0;34m'444-444-4444'\u001b[0m\u001b[0;34m,\u001b[0m \u001b[0;34m'jameslee@gmail.com'\u001b[0m\u001b[0;34m,\u001b[0m \u001b[0;34m'1995-03-12'\u001b[0m\u001b[0;34m,\u001b[0m \u001b[0;36m2\u001b[0m\u001b[0;34m)\u001b[0m\u001b[0;34m\u001b[0m\u001b[0m\n\u001b[0m\u001b[1;32m     26\u001b[0m \u001b[0;34m\u001b[0m\u001b[0m\n\u001b[1;32m     27\u001b[0m \u001b[0;34m\u001b[0m\u001b[0m\n",
      "\u001b[0;32m<ipython-input-8-ceeb55d233bd>\u001b[0m in \u001b[0;36madduser\u001b[0;34m(user_id, name, phone, email, dob, admin)\u001b[0m\n\u001b[1;32m     16\u001b[0m     \u001b[0;32mif\u001b[0m \u001b[0mentry\u001b[0m\u001b[0;34m[\u001b[0m\u001b[0;36m5\u001b[0m\u001b[0;34m]\u001b[0m \u001b[0;34m==\u001b[0m \u001b[0;36m1\u001b[0m\u001b[0;34m:\u001b[0m\u001b[0;34m\u001b[0m\u001b[0m\n\u001b[1;32m     17\u001b[0m         \u001b[0msql\u001b[0m \u001b[0;34m=\u001b[0m \u001b[0;34m\"INSERT INTO users(name, phone, email, dob, admin) VALUES(?, ?, ?, ?, ?)\"\u001b[0m\u001b[0;34m\u001b[0m\u001b[0m\n\u001b[0;32m---> 18\u001b[0;31m         \u001b[0mcursor\u001b[0m\u001b[0;34m.\u001b[0m\u001b[0mexecute\u001b[0m\u001b[0;34m(\u001b[0m\u001b[0msql\u001b[0m\u001b[0;34m,\u001b[0m \u001b[0;34m(\u001b[0m\u001b[0mname\u001b[0m\u001b[0;34m,\u001b[0m \u001b[0mphone\u001b[0m\u001b[0;34m,\u001b[0m \u001b[0memail\u001b[0m\u001b[0;34m,\u001b[0m \u001b[0mdob\u001b[0m\u001b[0;34m,\u001b[0m \u001b[0madmin\u001b[0m\u001b[0;34m)\u001b[0m\u001b[0;34m)\u001b[0m\u001b[0;34m\u001b[0m\u001b[0m\n\u001b[0m\u001b[1;32m     19\u001b[0m         \u001b[0mdb\u001b[0m\u001b[0;34m.\u001b[0m\u001b[0mcommit\u001b[0m\u001b[0;34m(\u001b[0m\u001b[0;34m)\u001b[0m\u001b[0;34m\u001b[0m\u001b[0m\n\u001b[1;32m     20\u001b[0m         \u001b[0;32mreturn\u001b[0m\u001b[0;34m(\u001b[0m\u001b[0;34m'New user added'\u001b[0m\u001b[0;34m)\u001b[0m\u001b[0;34m\u001b[0m\u001b[0m\n",
      "\u001b[0;31mOperationalError\u001b[0m: database is locked"
     ]
    }
   ],
   "source": [
    "## Adding a user\n",
    "## TODO: Find a way to make this admin only\n",
    "## DHROV I KNOW HOW TO DO THIS I'LL DO IT :D \n",
    "\n",
    "\n",
    "def adduser(user_id, name, phone, email, dob, admin):\n",
    "    ## Attempting to add another user\n",
    "    ## weird thing here, it won't recognize the first row which in this case should be \"Joe\" and not \"Jamie\"\n",
    "    ## So basically how this is supposed to work is that the user using the function has to give their user_id and \n",
    "    ## the code will check whether the user is an admin. So in the first part, it's supposed to check for admins \n",
    "    ## and fetch their details from that.. but i'm not sure if that is working correctly\n",
    "    adminCheck = cursor.execute('''SELECT * FROM users WHERE user_id = ? ''', (admin,))\n",
    "    entry = cursor.fetchone()\n",
    "    \n",
    "    print(entry) ## The entry will be None if there is not more than 2 rows in the users table .-. \n",
    "\n",
    "    ## Checking that the user is an admin\n",
    "    if entry[5] == 1: \n",
    "        sql = \"INSERT INTO users(name, phone, email, dob, admin) VALUES(?, ?, ?, ?, ?)\"\n",
    "        cursor.execute(sql, (name, phone, email, dob, admin))\n",
    "        db.commit()\n",
    "        return('New user added')\n",
    "    else:\n",
    "        return('ERROR: Not an admin') \n",
    "\n",
    "    \n",
    "adduser(1, 'James', '444-444-4444', 'jameslee@gmail.com', '1995-03-12', 2)\n",
    "\n",
    "\n",
    "for row in cursor.execute('''SELECT * FROM users'''):\n",
    "    print(row)\n",
    "\n",
    "\n"
   ]
  },
  {
   "cell_type": "code",
   "execution_count": 6,
   "metadata": {},
   "outputs": [
    {
     "name": "stdout",
     "output_type": "stream",
     "text": [
      "(1, 'PCL', 3, 104, 30)\n",
      "(2, 'CBA', 2, 111, 20)\n"
     ]
    }
   ],
   "source": [
    "## Adding a venue\n",
    "## TODO: Find a way to make this admin only\n",
    "\n",
    "def addvenue(db, bldg_code, floor_num, room_num, room_capacity):\n",
    "    sql = \"INSERT INTO venues(bldg_code, floor_num, room_num, room_capacity) VALUES(?, ?, ?, ?)\"\n",
    "    cursor = db.cursor()\n",
    "    cursor.execute(sql, (bldg_code, floor_num, room_num, room_capacity))\n",
    "    return \"boot\"\n",
    "\n",
    "addvenue(db, 'CBA', 2, 111, 20)\n",
    "\n",
    "for row in cursor.execute('''SELECT * FROM venues'''):\n",
    "    print(row)"
   ]
  },
  {
   "cell_type": "code",
   "execution_count": null,
   "metadata": {},
   "outputs": [],
   "source": []
  }
 ],
 "metadata": {
  "kernelspec": {
   "display_name": "Python 3",
   "language": "python",
   "name": "python3"
  },
  "language_info": {
   "codemirror_mode": {
    "name": "ipython",
    "version": 3
   },
   "file_extension": ".py",
   "mimetype": "text/x-python",
   "name": "python",
   "nbconvert_exporter": "python",
   "pygments_lexer": "ipython3",
   "version": "3.6.2"
  }
 },
 "nbformat": 4,
 "nbformat_minor": 2
}
