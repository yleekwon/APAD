{
 "cells": [
  {
   "cell_type": "markdown",
   "metadata": {},
   "source": [
    "# Project 1 - Room Booking App #\n",
    "### Dhrov Subramanian & Yeggi Lee ###"
   ]
  },
  {
   "cell_type": "markdown",
   "metadata": {},
   "source": [
    "This section connects to the database and creates the following tables:\n",
    "- users\n",
    "- venues\n",
    "- events\n",
    "- confirmedEvents"
   ]
  },
  {
   "cell_type": "code",
   "execution_count": 1,
   "metadata": {},
   "outputs": [],
   "source": [
    "import sqlite3\n",
    "db=sqlite3.connect(\"/Users/ylee/Desktop/sqlite/test.db\")\n",
    "cursor = db.cursor()\n",
    "\n",
    "cursor.execute('''\n",
    "    DROP TABLE IF EXISTS users''');\n",
    "cursor.execute('''\n",
    "    DROP TABLE IF EXISTS venues''');\n",
    "cursor.execute('''\n",
    "    DROP TABLE IF EXISTS events''');\n",
    "cursor.execute('''\n",
    "    DROP TABLE IF EXISTS confirmedEvents''');\n",
    "\n",
    "#Make email unique after testing please\n",
    "cursor.execute('''\n",
    "    CREATE TABLE users(\n",
    "                       user_id INTEGER PRIMARY KEY, \n",
    "                       name TEXT,\n",
    "                       phone TEXT, \n",
    "                       email TEXT, \n",
    "                       dob DATE,\n",
    "                       admin BOOLEAN)\n",
    "''');\n",
    "\n",
    "cursor.execute('''\n",
    "    CREATE TABLE venues(\n",
    "                        venue_id INTEGER PRIMARY KEY, \n",
    "                        bldg_code TEXT,\n",
    "                        floor_num INTEGER,\n",
    "                        room_num INTEGER, \n",
    "                        room_capacity INTEGER)\n",
    "''');\n",
    "\n",
    "cursor.execute('''\n",
    "    CREATE TABLE events(\n",
    "                        event_id INTEGER PRIMARY KEY, \n",
    "                        name TEXT, \n",
    "                        description TEXT, \n",
    "                        start_time TIMESTAMP,\n",
    "                        end_time TIMESTAMP, \n",
    "                        capacity INTEGER, \n",
    "                        venue_id INTEGER,\n",
    "                        event_owner INTEGER,\n",
    "                        CONSTRAINT \n",
    "                            fk_venues FOREIGN KEY (venue_id) \n",
    "                            REFERENCES venues(venue_id),\n",
    "                        CONSTRAINT \n",
    "                            fk_users FOREIGN KEY (event_owner) \n",
    "                            REFERENCES users(user_id))\n",
    "                   \n",
    "''');\n",
    "\n",
    "cursor.execute('''\n",
    "    CREATE TABLE confirmedEvents(\n",
    "                                 confirmedEvents_id INTEGER PRIMARY KEY, \n",
    "                                 event_id INTEGER, user_id INTEGER,\n",
    "                                 CONSTRAINT \n",
    "                                     fk_events FOREIGN KEY (event_id) \n",
    "                                     REFERENCES events(event_id),\n",
    "                                 CONSTRAINT \n",
    "                                     fk_users FOREIGN KEY (user_id) \n",
    "                                     REFERENCES users(user_id))\n",
    "''');\n",
    "\n",
    "db.commit()"
   ]
  },
  {
   "cell_type": "markdown",
   "metadata": {},
   "source": [
    "In the section below, we're adding test subjects to check that the tables are working correctly."
   ]
  },
  {
   "cell_type": "code",
   "execution_count": 2,
   "metadata": {},
   "outputs": [
    {
     "data": {
      "text/plain": [
       "<sqlite3.Cursor at 0x10df1cce0>"
      ]
     },
     "execution_count": 2,
     "metadata": {},
     "output_type": "execute_result"
    }
   ],
   "source": [
    "import datetime\n",
    "dob1 = datetime.date(1991, 1,1)\n",
    "\n",
    "cursor.execute('''INSERT INTO users(name, phone, email, dob, admin)\n",
    "                  VALUES(:name,:phone, :email, :dob, :admin)''',\n",
    "                  {'name':'Joe', 'phone':'222-333-4444', 'email':'joe2@email.com', 'dob':datetime.date(1992, 2,2),'admin': True })\n",
    "\n",
    "cursor.execute('''INSERT INTO venues(bldg_code, floor_num, room_num, room_capacity)\n",
    "                  VALUES(:bldg_code, :floor_num, :room_num, :room_capacity)''',\n",
    "                  {'bldg_code':'PCL', 'floor_num':'3','room_num':'104', 'room_capacity':'30'})\n",
    "\n"
   ]
  },
  {
   "cell_type": "code",
   "execution_count": 3,
   "metadata": {},
   "outputs": [
    {
     "name": "stdout",
     "output_type": "stream",
     "text": [
      "(1, 'Joe', '222-333-4444', 'joe2@email.com', '1992-02-02', 1)\n",
      "(1, 'PCL', 3, 104, 30)\n"
     ]
    }
   ],
   "source": [
    "#To print out all elements in the users table\n",
    "for row in cursor.execute('''SELECT * FROM users'''):\n",
    "    print(row)\n",
    "    \n",
    "for row in cursor.execute('''SELECT * FROM venues'''):\n",
    "    print(row)\n",
    "    \n",
    "for row in cursor.execute('''SELECT * FROM events'''):\n",
    "    print(row)"
   ]
  },
  {
   "cell_type": "code",
   "execution_count": 4,
   "metadata": {},
   "outputs": [
    {
     "name": "stdout",
     "output_type": "stream",
     "text": [
      "(1, 'Joe', '222-333-4444', 'joe2@email.com', '1992-02-02', 1)\n",
      "(2, 'James', '444-444-4444', 'jameslee@gmail.com', '1995-03-12', 1)\n",
      "(1, 'PCL', 3, 104, 30)\n",
      "(2, 'CBA', 2, 111, 20)\n"
     ]
    }
   ],
   "source": [
    "## FUNCTIONS \n",
    "\n",
    "## Adding a user\n",
    "## TODO: Find a way to make this admin only\n",
    "## DHROV I KNOW HOW TO DO THIS I'LL DO IT :D \n",
    "\n",
    "def adduser(db, name, phone, email, dob, admin):\n",
    "    sql = \"INSERT INTO users(name, phone, email, dob, admin) VALUES(?, ?, ?, ?, ?)\"\n",
    "    cursor = db.cursor()\n",
    "    cursor.execute(sql, (name, phone, email, dob, admin))\n",
    "    return \"woot\"\n",
    "    \n",
    "adduser(db, 'James', '444-444-4444', 'jameslee@gmail.com', '1995-03-12', True)\n",
    "\n",
    "##fetchone admin --> true/false\n",
    "##raise exceptions --> email\n",
    "\n",
    "\n",
    "## Adding a venue\n",
    "## TODO: Find a way to make this admin only\n",
    "\n",
    "def addvenue(db, bldg_code, floor_num, room_num, room_capacity):\n",
    "    sql = \"INSERT INTO venues(bldg_code, floor_num, room_num, room_capacity) VALUES(?, ?, ?, ?)\"\n",
    "    cursor = db.cursor()\n",
    "    cursor.execute(sql, (bldg_code, floor_num, room_num, room_capacity))\n",
    "    return \"boot\"\n",
    "\n",
    "addvenue(db, 'CBA', 2, 111, 20)\n",
    "\n",
    "for row in cursor.execute('''SELECT * FROM users'''):\n",
    "    print(row)\n",
    "    \n",
    "for row in cursor.execute('''SELECT * FROM venues'''):\n",
    "    print(row)\n",
    "\n"
   ]
  },
  {
   "cell_type": "code",
   "execution_count": null,
   "metadata": {},
   "outputs": [],
   "source": []
  },
  {
   "cell_type": "code",
   "execution_count": null,
   "metadata": {},
   "outputs": [],
   "source": []
  }
 ],
 "metadata": {
  "kernelspec": {
   "display_name": "Python 3",
   "language": "python",
   "name": "python3"
  },
  "language_info": {
   "codemirror_mode": {
    "name": "ipython",
    "version": 3
   },
   "file_extension": ".py",
   "mimetype": "text/x-python",
   "name": "python",
   "nbconvert_exporter": "python",
   "pygments_lexer": "ipython3",
   "version": "3.6.2"
  }
 },
 "nbformat": 4,
 "nbformat_minor": 2
}
