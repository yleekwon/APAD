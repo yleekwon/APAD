{
 "cells": [
  {
   "cell_type": "markdown",
   "metadata": {},
   "source": [
    "# Project 1 - Room Booking App #\n",
    "### Dhrov Subramanian & Yeggi Lee ###"
   ]
  },
  {
   "cell_type": "markdown",
   "metadata": {},
   "source": [
    "## Creating the tables ##\n",
    "\n",
    "1. users\n",
    "2. venues\n",
    "3. events\n",
    "4. confirmedEvents\n"
   ]
  },
  {
   "cell_type": "code",
   "execution_count": 1,
   "metadata": {},
   "outputs": [],
   "source": [
    "import sqlite3\n",
    "import pandas as pd\n",
    "\n",
    "# db=sqlite3.connect(\"/Users/ylee/Desktop/sqlite/test.db\")\n",
    "db=sqlite3.connect(\"/sqlite3/test.db\")\n",
    "cursor = db.cursor()\n",
    "\n",
    "cursor.execute('''\n",
    "    DROP TABLE IF EXISTS users''');\n",
    "cursor.execute('''\n",
    "    DROP TABLE IF EXISTS venues''');\n",
    "cursor.execute('''\n",
    "    DROP TABLE IF EXISTS events''');\n",
    "cursor.execute('''\n",
    "    DROP TABLE IF EXISTS confirmedEvents''');\n",
    "cursor.execute('''\n",
    "    DROP TABLE IF EXISTS Time''');\n",
    "\n",
    "#Make email unique after testing please. \n",
    "\n",
    "cursor.execute('''\n",
    "    CREATE TABLE users(\n",
    "                       user_id INTEGER PRIMARY KEY, \n",
    "                       name TEXT,\n",
    "                       phone TEXT, \n",
    "                       email TEXT UNIQUE, \n",
    "                       EID TEXT UNIQUE,\n",
    "                       admin BOOLEAN)\n",
    "''');\n",
    "\n",
    "cursor.execute('''\n",
    "    CREATE TABLE venues(\n",
    "                        venue_id INTEGER PRIMARY KEY, \n",
    "                        bldg_code TEXT,\n",
    "                        floor_num INTEGER,\n",
    "                        room_num INTEGER, \n",
    "                        room_capacity INTEGER,\n",
    "                        open_time TEXT,\n",
    "                        close_time TEXT,\n",
    "                        time_id INTEGER,\n",
    "                        CONSTRAINT \n",
    "                             fk_events FOREIGN KEY (time_id) \n",
    "                             REFERENCES time(time_id))\n",
    "''');\n",
    "\n",
    "cursor.execute('''\n",
    "    CREATE TABLE events(\n",
    "                        event_id INTEGER PRIMARY KEY, \n",
    "                        name TEXT, \n",
    "                        description TEXT,  \n",
    "                        expected_attendance INTEGER,\n",
    "                        venue_id INTEGER,\n",
    "                        event_owner INTEGER,\n",
    "                        time_id INTEGER,\n",
    "                        start_time TEXT,\n",
    "                        CONSTRAINT \n",
    "                             fk_events FOREIGN KEY (time_id) \n",
    "                             REFERENCES time(time_id),\n",
    "                        CONSTRAINT \n",
    "                            fk_venues FOREIGN KEY (venue_id) \n",
    "                            REFERENCES venues(venue_id),\n",
    "                        CONSTRAINT \n",
    "                            fk_users FOREIGN KEY (event_owner) \n",
    "                            REFERENCES users(user_id))\n",
    "                   \n",
    "''');\n",
    "\n",
    "cursor.execute('''\n",
    "    CREATE TABLE confirmedEvents(\n",
    "                                 confirmedEvents_id INTEGER PRIMARY KEY, \n",
    "                                 event_id INTEGER, user_id INTEGER,\n",
    "                                 CONSTRAINT \n",
    "                                     fk_events FOREIGN KEY (event_id) \n",
    "                                     REFERENCES events(event_id),\n",
    "                                 CONSTRAINT \n",
    "                                     fk_users FOREIGN KEY (user_id) \n",
    "                                     REFERENCES users(user_id))\n",
    "''');\n",
    "\n",
    "cursor.execute('''\n",
    "    CREATE TABLE Time(\n",
    "                       time_id INTEGER PRIMARY KEY, \n",
    "                       event_id INTEGER, \n",
    "                       venue_id INTEGER,\n",
    "                       timeslot TEXT,\n",
    "                         CONSTRAINT \n",
    "                             fk_events FOREIGN KEY (event_id) \n",
    "                             REFERENCES events(event_id),\n",
    "                         CONSTRAINT \n",
    "                             fk_users FOREIGN KEY (venue_id) \n",
    "                             REFERENCES venue(venue_id))\n",
    "''');\n",
    "\n",
    "# cursor.execute('''\n",
    "#     CREATE TABLE TimeSlots(\n",
    "#                        time_id INTEGER PRIMARY KEY, \n",
    "#                        time_slots TIMESTAMP, \n",
    "#                        event_id INTEGER\n",
    "#                        venue_id INTEGER,\n",
    "#                         CONSTRAINT \n",
    "#                              fk_events FOREIGN KEY (event_id) \n",
    "#                              REFERENCES events(event_id),\n",
    "#                         CONSTRAINT \n",
    "#                              fk_users FOREIGN KEY (venue_id) \n",
    "#                              REFERENCES venue(venue_id))\n",
    "# ''');\n",
    "\n",
    "db.commit()"
   ]
  },
  {
   "cell_type": "markdown",
   "metadata": {},
   "source": [
    "In the section below, we're adding test subjects to check that the tables are working correctly."
   ]
  },
  {
   "cell_type": "code",
   "execution_count": null,
   "metadata": {},
   "outputs": [],
   "source": []
  },
  {
   "cell_type": "code",
   "execution_count": 2,
   "metadata": {},
   "outputs": [],
   "source": [
    "# import datetime\n",
    "# dob1 = datetime.date(1991, 1,1)\n",
    "\n",
    "cursor.execute('''INSERT INTO users(name, phone, email, EID, admin)\n",
    "                  VALUES(:name,:phone, :email, :EID, :admin)''',\n",
    "                  {'name':'Joe', 'phone':'222-333-4444', 'email':'joe2@email.com', 'EID': 'ds39547','admin': 0 })\n",
    "\n",
    "cursor.execute('''INSERT INTO users(name, phone, email, EID, admin)\n",
    "                  VALUES(:name,:phone, :email, :EID, :admin)''',\n",
    "                  {'name':'Jamie', 'phone':'111-111-111', 'email':'jamielee@email.com', 'EID': 'ds39548' ,'admin': 1})\n",
    "\n",
    "# cursor.execute('''INSERT INTO venues(bldg_code, floor_num, room_num, room_capacity, open_time, close_time)\n",
    "#                   VALUES(:bldg_code, :floor_num, :room_num, :room_capacity, :open_time, :close_time)''',\n",
    "#                   {'bldg_code':'PCL', 'floor_num':'3','room_num':'104', 'room_capacity':'30', 'open_time':'07:00', 'close_time':'21:00'})\n",
    "\n"
   ]
  },
  {
   "cell_type": "code",
   "execution_count": 3,
   "metadata": {},
   "outputs": [],
   "source": [
    "#To print out all elements in the users table\n",
    "for row in cursor.execute('''SELECT * FROM users'''):\n",
    "    print(row)\n",
    "    \n",
    "for row in cursor.execute('''SELECT * FROM venues'''):\n",
    "    print(row)\n",
    "    \n",
    "for row in cursor.execute('''SELECT * FROM events'''):\n",
    "    print(row)"
   ]
  },
  {
   "cell_type": "markdown",
   "metadata": {},
   "source": [
    "## Adding a user ## \n",
    "\n",
    "### Parameters: ###\n",
    "1. **db**: database\n",
    "2. **name**: name of the user\n",
    "3. **phone**: phone of the user\n",
    "4. **email**: email of the user (must be unique)\n",
    "5. **EID**: EID of the user\n",
    "6. **admin**: checks whether the user is an admin or not (0 = False, 1 = True)\n",
    "\n",
    "### Sequence: ###\n",
    "1. Using the user_id, the function fetches the information of that entry \n",
    "2. With that info, the function is able to determine if the user is an admin or not\n",
    "3. If the user is an admin, the user is added to the database\n",
    "4. If the user is not an admin, an error is raised "
   ]
  },
  {
   "cell_type": "markdown",
   "metadata": {},
   "source": [
    "### Add a new user (admin only)"
   ]
  },
  {
   "cell_type": "code",
   "execution_count": 4,
   "metadata": {
    "scrolled": true
   },
   "outputs": [
    {
     "ename": "TypeError",
     "evalue": "'NoneType' object is not subscriptable",
     "output_type": "error",
     "traceback": [
      "\u001b[1;31m---------------------------------------------------------------------------\u001b[0m",
      "\u001b[1;31mTypeError\u001b[0m                                 Traceback (most recent call last)",
      "\u001b[1;32m<ipython-input-4-03fcb38e0664>\u001b[0m in \u001b[0;36m<module>\u001b[1;34m\u001b[0m\n\u001b[0;32m     14\u001b[0m \u001b[1;33m\u001b[0m\u001b[0m\n\u001b[0;32m     15\u001b[0m \u001b[1;33m\u001b[0m\u001b[0m\n\u001b[1;32m---> 16\u001b[1;33m \u001b[0madduser\u001b[0m\u001b[1;33m(\u001b[0m\u001b[1;36m2\u001b[0m\u001b[1;33m,\u001b[0m \u001b[1;34m'Bob'\u001b[0m\u001b[1;33m,\u001b[0m \u001b[1;34m'222-222-222'\u001b[0m\u001b[1;33m,\u001b[0m \u001b[1;34m'bobthebuilder@gmail.com'\u001b[0m\u001b[1;33m,\u001b[0m \u001b[1;34m'1997-01-11'\u001b[0m\u001b[1;33m,\u001b[0m \u001b[1;36m0\u001b[0m\u001b[1;33m)\u001b[0m\u001b[1;33m\u001b[0m\u001b[1;33m\u001b[0m\u001b[0m\n\u001b[0m\u001b[0;32m     17\u001b[0m \u001b[1;33m\u001b[0m\u001b[0m\n\u001b[0;32m     18\u001b[0m \u001b[1;33m\u001b[0m\u001b[0m\n",
      "\u001b[1;32m<ipython-input-4-03fcb38e0664>\u001b[0m in \u001b[0;36madduser\u001b[1;34m(user_id, name, phone, email, EID, admin)\u001b[0m\n\u001b[0;32m      5\u001b[0m \u001b[1;33m\u001b[0m\u001b[0m\n\u001b[0;32m      6\u001b[0m     \u001b[1;31m## Checking that the user is an admin\u001b[0m\u001b[1;33m\u001b[0m\u001b[1;33m\u001b[0m\u001b[1;33m\u001b[0m\u001b[0m\n\u001b[1;32m----> 7\u001b[1;33m     \u001b[1;32mif\u001b[0m \u001b[0mentry\u001b[0m\u001b[1;33m[\u001b[0m\u001b[1;36m5\u001b[0m\u001b[1;33m]\u001b[0m \u001b[1;33m==\u001b[0m \u001b[1;36m1\u001b[0m\u001b[1;33m:\u001b[0m\u001b[1;33m\u001b[0m\u001b[1;33m\u001b[0m\u001b[0m\n\u001b[0m\u001b[0;32m      8\u001b[0m         \u001b[0msql\u001b[0m \u001b[1;33m=\u001b[0m \u001b[1;34m\"INSERT INTO users(name, phone, email, EID, admin) VALUES(?, ?, ?, ?, ?)\"\u001b[0m\u001b[1;33m\u001b[0m\u001b[1;33m\u001b[0m\u001b[0m\n\u001b[0;32m      9\u001b[0m         \u001b[0mcursor\u001b[0m\u001b[1;33m.\u001b[0m\u001b[0mexecute\u001b[0m\u001b[1;33m(\u001b[0m\u001b[0msql\u001b[0m\u001b[1;33m,\u001b[0m \u001b[1;33m(\u001b[0m\u001b[0mname\u001b[0m\u001b[1;33m,\u001b[0m \u001b[0mphone\u001b[0m\u001b[1;33m,\u001b[0m \u001b[0memail\u001b[0m\u001b[1;33m,\u001b[0m \u001b[0mEID\u001b[0m\u001b[1;33m,\u001b[0m \u001b[0madmin\u001b[0m\u001b[1;33m)\u001b[0m\u001b[1;33m)\u001b[0m\u001b[1;33m\u001b[0m\u001b[1;33m\u001b[0m\u001b[0m\n",
      "\u001b[1;31mTypeError\u001b[0m: 'NoneType' object is not subscriptable"
     ]
    }
   ],
   "source": [
    "def adduser(user_id, name, phone, email, EID, admin):\n",
    "    ## Grabs the row of information that connects to the user_id\n",
    "    adminCheck = cursor.execute('''SELECT * FROM users WHERE user_id = ? ''', (user_id,))\n",
    "    entry = cursor.fetchone()\n",
    "\n",
    "    ## Checking that the user is an admin\n",
    "    if entry[5] == 1: \n",
    "        sql = \"INSERT INTO users(name, phone, email, EID, admin) VALUES(?, ?, ?, ?, ?)\"\n",
    "        cursor.execute(sql, (name, phone, email, EID, admin))\n",
    "        db.commit()\n",
    "        return('New user added')\n",
    "    else:\n",
    "        raise Exception('ERROR: Not an admin') \n",
    "\n",
    "    \n",
    "adduser(2, 'Bob', '222-222-222', 'bobthebuilder@gmail.com', '1997-01-11', 0)\n",
    "\n",
    "\n",
    "print(pd.read_sql_query(\"SELECT * FROM users\", db))\n"
   ]
  },
  {
   "cell_type": "markdown",
   "metadata": {},
   "source": [
    "## Adding a venue ## \n",
    "\n",
    "### Parameters: ###\n",
    "1. **user_id**: id of the user (primary key)\n",
    "2. **bldg_code**: building code of the building (should be 3 letters)\n",
    "3. **floor_num**: floor of the room\n",
    "4. **room_num**: number of the room\n",
    "5. **room_capacity**: how many people can fit in the room\n",
    "\n",
    "### Sequence: ###\n",
    "1. Using the user_id, the function fetches the information of that entry \n",
    "2. With that info, the function is able to determine if the user is an admin or not\n",
    "3. If the user is an admin, the venue is added to the database\n",
    "4. If the user is not an admin, an error is raised "
   ]
  },
  {
   "cell_type": "code",
   "execution_count": null,
   "metadata": {},
   "outputs": [],
   "source": [
    "import datetime\n",
    "\n",
    "start_time = '00:00'\n",
    "end_time = '23:00'\n",
    "slot_time = 60\n",
    "\n",
    "# Start date from today to next 5 day\n",
    "start_date = datetime.datetime.now().date()\n",
    "end_date = datetime.datetime.now().date() + datetime.timedelta(days=1)\n",
    "\n",
    "days = []\n",
    "date = start_date\n",
    "while date <= end_date:\n",
    "    hours = []\n",
    "    time = datetime.datetime.strptime(start_time, '%H:%M')\n",
    "    end = datetime.datetime.strptime(end_time, '%H:%M')\n",
    "    while time <= end:\n",
    "        hours.append(time.strftime(\"%H:%M\"))\n",
    "        time += datetime.timedelta(minutes=slot_time)\n",
    "    date += datetime.timedelta(days=1)\n",
    "    days.append(hours)\n",
    "    \n",
    "for time in hours:\n",
    "    cursor.execute(\"INSERT INTO Time(timeslot) values (?)\", (time,))\n",
    "    "
   ]
  },
  {
   "cell_type": "code",
   "execution_count": null,
   "metadata": {},
   "outputs": [],
   "source": [
    "## Adding a venue\n",
    "## TODO: Find a way to make this admin only\n",
    "\n",
    "def addvenue(user_id, bldg_code, floor_num, room_num, room_capacity):\n",
    "    start_time = '00:00'\n",
    "    end_time = '23:00'\n",
    "    slot_time = 60\n",
    "\n",
    "    # Start date from today to next 5 day\n",
    "    start_date = datetime.datetime.now().date()\n",
    "    end_date = datetime.datetime.now().date() + datetime.timedelta(days=1)\n",
    "\n",
    "    days = []\n",
    "    date = start_date\n",
    "    while date <= end_date:\n",
    "        hours = []\n",
    "        time = datetime.datetime.strptime(start_time, '%H:%M')\n",
    "        end = datetime.datetime.strptime(end_time, '%H:%M')\n",
    "        while time <= end:\n",
    "            hours.append(time.strftime(\"%H:%M\"))\n",
    "            time += datetime.timedelta(minutes=slot_time)\n",
    "        date += datetime.timedelta(days=1)\n",
    "        days.append(hours)\n",
    "        \n",
    "        ## Grabs the row of information that connects to the user_id\n",
    "        adminCheck = cursor.execute('''SELECT * FROM users WHERE user_id = ? ''', (user_id,))\n",
    "        entry = cursor.fetchone()\n",
    "\n",
    "    ## Checking that the user is an admin\n",
    "    if entry[5] == 1: \n",
    "        sql = \"INSERT INTO venues(bldg_code, floor_num, room_num, room_capacity) VALUES(?, ?, ?, ?)\"\n",
    "        cursor.execute(sql, (bldg_code, floor_num, room_num, room_capacity))\n",
    "        \n",
    "        venue = cursor.lastrowid\n",
    "        \n",
    "        for time in hours:\n",
    "            cursor.execute(\"INSERT INTO Time(venue_id, timeslot) values (?,?)\", (venue,time,))\n",
    "        db.commit()\n",
    "        return('New venue added')\n",
    "    else:\n",
    "        raise Exception('ERROR: Not an admin') \n",
    "\n",
    "addvenue(2, 'CBA', 4, 211, 40)\n",
    "\n",
    "\n",
    "print(pd.read_sql_query(\"SELECT * FROM venues\", db))"
   ]
  },
  {
   "cell_type": "markdown",
   "metadata": {},
   "source": [
    "## Start an Event ## \n",
    "\n",
    "### Parameters: ###\n",
    "\n",
    "### Sequence: ###"
   ]
  },
  {
   "cell_type": "code",
   "execution_count": null,
   "metadata": {
    "scrolled": true
   },
   "outputs": [],
   "source": [
    "## start an event\n",
    "from datetime import datetime, timedelta\n",
    "\n",
    "\n",
    "def adding(name, description, expected_attendance, venue_id, event_owner, time_id, start_time):\n",
    "    cursor = db.cursor()\n",
    "    venueCheck = cursor.execute('''SELECT * FROM venues WHERE venue_id = ? ''', (venue_id,))\n",
    "    entry = cursor.fetchone()\n",
    "    \n",
    "    if expected_attendance < int(entry[4]): \n",
    "        sql = \"INSERT INTO events( name, description, expected_attendance, venue_id, event_owner, time_id, start_time) VALUES(?, ?, ?, ?, ?, ?, ?)\"\n",
    "        cursor = db.cursor()\n",
    "        cursor.execute(sql, (name, description, expected_attendance, venue_id, event_owner, time_id, start_time))\n",
    "        \n",
    "        updateTime = \"UPDATE Time SET event_id = ? WHERE Timeslot = ?\"\n",
    "        cursor.execute(updateTime,(cursor.lastrowid, start_time))\n",
    "        return('New event added')\n",
    "    else:\n",
    "        raise Exception('ERROR: Room capacity exceeded')\n",
    "    \n",
    "adding('tdfda', 'a tefdae system', 20, 2, 1, 1, \"08:00\")\n",
    "adding('dfadf1', 'a test dafs system', 21, 1, 1, 1, \"09:00\")\n",
    "adding('fda', 'a test ofda system', 22, 1, 1, 1, \"10:00\")\n",
    "\n",
    "print(pd.read_sql_query(\"SELECT * FROM events\", db))"
   ]
  },
  {
   "cell_type": "code",
   "execution_count": null,
   "metadata": {},
   "outputs": [],
   "source": [
    "print(pd.read_sql_query(\"SELECT * FROM confirmedEvents\", db))"
   ]
  },
  {
   "cell_type": "markdown",
   "metadata": {},
   "source": [
    "### Display timeslot availability at a venue "
   ]
  },
  {
   "cell_type": "code",
   "execution_count": null,
   "metadata": {},
   "outputs": [],
   "source": [
    "print(pd.read_sql_query(\"SELECT * FROM Time\", db))"
   ]
  },
  {
   "cell_type": "code",
   "execution_count": null,
   "metadata": {},
   "outputs": [],
   "source": []
  },
  {
   "cell_type": "markdown",
   "metadata": {},
   "source": [
    "## Remove an Event Admin Only## \n",
    "\n",
    "### Parameters: ###\n",
    "\n",
    "### Sequence: ###"
   ]
  },
  {
   "cell_type": "code",
   "execution_count": null,
   "metadata": {},
   "outputs": [],
   "source": [
    "def remove_event(user_id, event_id):\n",
    "    ## Grabs the row of information that connects to the user_id\n",
    "    adminCheck = cursor.execute('''SELECT * FROM users WHERE user_id = ? ''', (user_id,))\n",
    "    entry = cursor.fetchone()\n",
    "\n",
    "    ## Checking that the user is an admin\n",
    "    if entry[5] == 1: \n",
    "        sql = ('''DELETE FROM events WHERE event_id = ?''')\n",
    "        cursor.execute(sql, (event_id,))\n",
    "        db.commit()\n",
    "        return('Event deleted')\n",
    "    else:\n",
    "        raise Exception('ERROR: Not an admin') \n",
    "\n",
    "remove_event(2,2)\n",
    "\n",
    "print(pd.read_sql_query(\"SELECT * FROM events\", db))"
   ]
  },
  {
   "cell_type": "code",
   "execution_count": null,
   "metadata": {},
   "outputs": [],
   "source": []
  }
 ],
 "metadata": {
  "kernelspec": {
   "display_name": "Python 3",
   "language": "python",
   "name": "python3"
  },
  "language_info": {
   "codemirror_mode": {
    "name": "ipython",
    "version": 3
   },
   "file_extension": ".py",
   "mimetype": "text/x-python",
   "name": "python",
   "nbconvert_exporter": "python",
   "pygments_lexer": "ipython3",
   "version": "3.6.8"
  }
 },
 "nbformat": 4,
 "nbformat_minor": 2
}
